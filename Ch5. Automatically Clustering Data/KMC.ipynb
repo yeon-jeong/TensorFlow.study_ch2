{
 "cells": [
  {
   "cell_type": "code",
   "execution_count": 1,
   "metadata": {},
   "outputs": [
    {
     "name": "stdout",
     "output_type": "stream",
     "text": [
      "Data is generated!\n"
     ]
    },
    {
     "data": {
      "image/png": "[encoded data removed]",
      "text/plain": [
       "<matplotlib.figure.Figure at 0x201b17738d0>"
      ]
     },
     "metadata": {},
     "output_type": "display_data"
    }
   ],
   "source": [
    "\"\"\"K-means Clustering\n",
    "    1. Set K\n",
    "    2. Clustering\n",
    "    3. Updating : based on result of 2nd stage\"\"\"\n",
    "\n",
    "import tensorflow as tf\n",
    "import numpy as np\n",
    "import matplotlib.pyplot as plt\n",
    "\n",
    "# Generating data\n",
    "obs = 300     \n",
    "data = []\n",
    "# Gaussian -> 3 diff. dist. by dispersion\n",
    "for i in range(obs):\n",
    "    choice = np.random.random()\n",
    "    if choice < 1/3:\n",
    "        x = np.random.normal(1.0,2.0)\n",
    "        y = np.random.normal(-1.0,3.5)\n",
    "    elif choice < 2/3:\n",
    "        x = np.random.normal(9.0, 4.0)\n",
    "        y = np.random.normal(9.0, 2.0)\n",
    "    else:\n",
    "        x = np.random.normal(7.0, 2.0)\n",
    "        y = np.random.normal(-3.0, 4.0)\n",
    "\n",
    "    plt.plot(x, y, 'ko')        # ko = black dot\n",
    "    data.append([x, y])\n",
    "\n",
    "print(\"Data is generated!\")\n",
    "plt.show()"
   ]
  },
  {
   "cell_type": "code",
   "execution_count": 2,
   "metadata": {
    "collapsed": true
   },
   "outputs": [],
   "source": [
    "K=3\n",
    "\n",
    "# constant tensor <- data\n",
    "vectors = tf.constant(data)\n",
    "# Randomly pick K centroids\n",
    "centroids = tf.Variable(tf.slice(tf.random_shuffle(vectors),[0, 0],[K, -1]))"
   ]
  },
  {
   "cell_type": "code",
   "execution_count": 3,
   "metadata": {},
   "outputs": [
    {
     "name": "stdout",
     "output_type": "stream",
     "text": [
      "(300, 2)\n",
      "(3, 2)\n"
     ]
    }
   ],
   "source": [
    "print (vectors.get_shape())\n",
    "print (centroids.get_shape())"
   ]
  },
  {
   "cell_type": "code",
   "execution_count": 5,
   "metadata": {
    "collapsed": true
   },
   "outputs": [],
   "source": [
    "# Comparing distance\n",
    "# Dim. expansion\n",
    "expanded_vectors = tf.expand_dims(vectors, 0)\n",
    "expanded_centroids = tf.expand_dims(centroids, 1)"
   ]
  },
  {
   "cell_type": "code",
   "execution_count": 6,
   "metadata": {},
   "outputs": [
    {
     "name": "stdout",
     "output_type": "stream",
     "text": [
      "(1, 300, 2)\n",
      "(3, 1, 2)\n"
     ]
    }
   ],
   "source": [
    "print (expanded_vectors.get_shape())\n",
    "print (expanded_centroids.get_shape())"
   ]
  },
  {
   "cell_type": "code",
   "execution_count": 8,
   "metadata": {},
   "outputs": [],
   "source": [
    "# Loss function = RMS of errors\n",
    "loss = tf.reduce_sum(tf.square(tf.subtract(expanded_vectors, expanded_centroids)),2)\n",
    "best_centroids = tf.argmin(loss, 0)"
   ]
  },
  {
   "cell_type": "code",
   "execution_count": 9,
   "metadata": {
    "collapsed": true
   },
   "outputs": [],
   "source": [
    "# Updating centroids\n",
    "means = tf.concat([tf.reduce_mean(tf.gather(vectors, tf.reshape(tf.where( tf.equal(best_centroids, c)),[1,-1])), reduction_indices=[1]) for c in range(K)], 0)\n",
    "update_centroids = tf.assign(centroids, means)"
   ]
  },
  {
   "cell_type": "code",
   "execution_count": 10,
   "metadata": {
    "collapsed": true
   },
   "outputs": [],
   "source": [
    "# Run tf\n",
    "# Initialise all vari.\n",
    "init = tf.global_variables_initializer()\n",
    "\n",
    "sess = tf.Session()\n",
    "sess.run(init)"
   ]
  },
  {
   "cell_type": "code",
   "execution_count": 11,
   "metadata": {
    "collapsed": true
   },
   "outputs": [],
   "source": [
    "# Training\n",
    "for step in range(1):\n",
    "    _ , centroid_values, assignment_values = sess.run([update_centroids, centroids, best_centroids])\n"
   ]
  },
  {
   "cell_type": "code",
   "execution_count": 12,
   "metadata": {},
   "outputs": [
    {
     "name": "stdout",
     "output_type": "stream",
     "text": [
      "Plotting is done!\n"
     ]
    },
    {
     "data": {
      "image/png": "[encoded data removed]",
      "text/plain": [
       "<matplotlib.figure.Figure at 0x201b8926780>"
      ]
     },
     "metadata": {},
     "output_type": "display_data"
    }
   ],
   "source": [
    "# Labelling data\n",
    "for i in range(len(assignment_values)):\n",
    "    if assignment_values[i] == 0:\n",
    "        plt.plot(data[i][0],data[i][1], 'bo')\n",
    "    elif assignment_values[i] == 1:\n",
    "        plt.plot(data[i][0], data[i][1], 'ro')\n",
    "    elif assignment_values[i] == 2:\n",
    "        plt.plot(data[i][0], data[i][1], 'co')\n",
    "    else:\n",
    "        plt.plot(data[i][0], data[i][1], 'go')\n",
    "        \n",
    "plt.plot(centroid_values[:,0], centroid_values[:,1], 'kD')  \n",
    "\n",
    "print(\"Plotting is done!\")\n",
    "plt.show()"
   ]
  },
  {
   "cell_type": "code",
   "execution_count": null,
   "metadata": {
    "collapsed": true
   },
   "outputs": [],
   "source": []
  }
 ],
 "metadata": {
  "kernelspec": {
   "display_name": "Python 3",
   "language": "python",
   "name": "python3"
  },
  "language_info": {
   "codemirror_mode": {
    "name": "ipython",
    "version": 3
   },
   "file_extension": ".py",
   "mimetype": "text/x-python",
   "name": "python",
   "nbconvert_exporter": "python",
   "pygments_lexer": "ipython3",
   "version": "3.6.3"
  }
 },
 "nbformat": 4,
 "nbformat_minor": 2
}
