{
 "cells": [
  {
   "cell_type": "code",
   "execution_count": 49,
   "metadata": {
    "collapsed": true
   },
   "outputs": [
    {
     "name": "stdout",
     "output_type": "stream",
     "text": [
      "Data is generated!\n"
     ]
    },
    {
     "data": {
      "image/png": "[encoded data removed]",
      "text/plain": [
       "<matplotlib.figure.Figure at 0x1764646f320>"
      ]
     },
     "metadata": {},
     "output_type": "display_data"
    }
   ],
   "source": [
    "\"\"\"K-means Clustering\n",
    "    1. Set K\n",
    "    2. Clustering\n",
    "    3. Updating : based on result of 2nd stage\"\"\"\n",
    "\n",
    "import tensorflow as tf\n",
    "import numpy as np\n",
    "import matplotlib.pyplot as plt\n",
    "\n",
    "# 데이터 생성\n",
    "# 300개의 데이터\n",
    "obs = 300     \n",
    "data = []\n",
    "# 정규 분포 이용 -> 3덩어리 by dispersion\n",
    "for i in range(obs):\n",
    "    choice = np.random.random()\n",
    "    if choice < 1/3:\n",
    "        x = np.random.normal(1.0,2.0)\n",
    "        y = np.random.normal(-1.0,3.5)\n",
    "    elif choice < 2/3:\n",
    "        x = np.random.normal(9.0, 4.0)\n",
    "        y = np.random.normal(9.0, 2.0)\n",
    "    else:\n",
    "        x = np.random.normal(7.0, 2.0)\n",
    "        y = np.random.normal(-3.0, 4.0)\n",
    "\n",
    "    plt.plot(x, y, 'ko')        # ko = black dot\n",
    "    data.append([x, y])\n",
    "\n",
    "print(\"Data is generated!\")\n",
    "plt.show()\n",
    "\n"
   ]
  },
  {
   "cell_type": "code",
   "execution_count": 50,
   "metadata": {},
   "outputs": [],
   "source": [
    "K=3\n",
    "\n",
    "# constant tensor <- data\n",
    "vectors = tf.constant(data)\n",
    "# Randomly pick K centroids\n",
    "centroids = tf.Variable(tf.slice(tf.random_shuffle(vectors),[0, 0],[K, -1]))"
   ]
  },
  {
   "cell_type": "code",
   "execution_count": 51,
   "metadata": {},
   "outputs": [
    {
     "name": "stdout",
     "output_type": "stream",
     "text": [
      "(300, 2)\n(3, 2)\n"
     ]
    }
   ],
   "source": [
    "print (vectors.get_shape())\n",
    "print (centroids.get_shape())"
   ]
  },
  {
   "cell_type": "code",
   "execution_count": 52,
   "metadata": {},
   "outputs": [],
   "source": [
    "# Comparing distance\n",
    "# Dim. expansion\n",
    "'''뺄셈 하려고 하는 두 텐서가 모두 2차원이지만 1차원 배열의 갯수 (D0 : 2000 vs 4) 다름.\n",
    "tf.expand_dims 함수를 사용, 차원을 추가. 2차원 -> 3차원으로 만들어 뺄셈 할 수 있도록 사이즈 통일.'''\n",
    "\n",
    "# (300, 2), (K, 2) > (n, 300, 2), (K, n, 2)\n",
    "expanded_vectors = tf.expand_dims(vectors, 0)\n",
    "expanded_centroids = tf.expand_dims(centroids, 1)"
   ]
  },
  {
   "cell_type": "code",
   "execution_count": 53,
   "metadata": {},
   "outputs": [
    {
     "name": "stdout",
     "output_type": "stream",
     "text": [
      "(1, 300, 2)\n(3, 1, 2)\n"
     ]
    }
   ],
   "source": [
    "'''텐서플로우의 브로드캐스팅(broadcasting) : \n",
    "tf.subtract 함수는 두 텐서의 각 엘리먼트를 어떻게 빼야할 지 스스로 \n",
    "알아낼 수 있다. 두 텐서의 구조가 같은 부분, 즉 어떤 차원이 같은 크기인지 \n",
    "알아채어 해당 차원에서 뺄셈. \n",
    "대신 차원 D0는 expanded_centroids 에서만 크기가 정해져 있다.\n",
    "이런 경우 텐서플로우는 expanded_vectors 텐서의 D0 차원의 크기가 \n",
    "expanded_centroids의 D0 차원의 크기와 같다고 가정, 각 엘리먼트 별로 뺄셈.\n",
    "expanded_centroids 텐서의 D1 차원에서도 같다. \n",
    "즉 텐서플로우는 expanded_vectors 텐서의 D1 차원과 같은 사이즈로 간주.'''\n",
    "\n",
    "print (expanded_vectors.get_shape())\n",
    "print (expanded_centroids.get_shape())\n",
    "\n",
    "# \"shape = 1\" : scale is not determined\n"
   ]
  },
  {
   "cell_type": "code",
   "execution_count": 54,
   "metadata": {},
   "outputs": [],
   "source": [
    "# Loss function = RMS of errors\n",
    "# 오차가 가장 작은 index를 찾음 - best centroids\n",
    "loss = tf.reduce_sum(tf.square(tf.subtract(expanded_vectors, expanded_centroids)),2)\n",
    "# tf.subtract : expaned_vectors 와 expanded_centroids 를 뺀 텐서 리턴.\n",
    "# (D0 차원에는 센트로이드, D1 차원에는 데이터 인덱스, D2 차원에는 x, y 값을 가진 텐서)\n",
    "# tf.reduce_sum : 텐서의 차원 축소(지정된 차원을 따라 엘리먼트들을 더함), 지정된 차원(D2).\n",
    "best_centroids = tf.argmin(loss, 0)\n",
    "# 마지막으로 센트로이드의 선택은 지정된 차원(여기서는 센트로이드 값이 있는 D0 차원)에서 \n",
    "# 가장 작은 값의 인덱스를 리턴하는 tf.argmin 으로 결정\n"
   ]
  },
  {
   "cell_type": "code",
   "execution_count": 55,
   "metadata": {},
   "outputs": [
    {
     "data": {
      "text/plain": [
       "'means 텐서의 값을 centroids에 할당하는 연산을 만들어\\n run() 메소드가 실행될 때 업데이트 된 센트로이드 값이 다음번 루프 반복에서 사용'"
      ]
     },
     "execution_count": 55,
     "metadata": {},
     "output_type": "execute_result"
    }
   ],
   "source": [
    "# Updating centroids\n",
    "# k 개의 클러스터에 속한 모든 포인트의 평균을 가지고 있는 k 개의 텐서를 합친 means 텐서\n",
    "means = tf.concat([tf.reduce_mean(tf.gather(vectors, tf.reshape(tf.where( tf.equal(best_centroids, c)),[1,-1])), reduction_indices=[1]) for c in range(K)], 0)\n",
    "# equal : 한 클러스터 c에 매핑되는 best_centroids 텐서의 요소에 true 주는 boolean 텐서 생성\n",
    "# c : 클러스터 번호\n",
    "# where : 특정 기준에 해당하는 data의 좌표 생성\n",
    "'''파라미터로 받은 boolean 텐서에서 true로 표시된 위치를 값으로 가지는 텐서\n",
    "(Dimension(1) x Dimension(2000)) -> [Dimension(None), Dimension(1)]'''\n",
    "# reshape : tensor로 변환\n",
    "'''c 클러스터에 속한 vectors 텐서의 포인트들의 인덱스로 구성된 텐서\n",
    "(Dimension(2000) x Dimension(1))를 만듭니다.\n",
    "(역주: reshape의 텐서의 크기를 지정하는 파라메타의 두번째 배열요소가 -1이라 \n",
    "앞단계에서 만든 텐서를 차원을 뒤집는 효과를 발휘하여 [Dimension(1), Dimension(None)]'''\n",
    "# gather : 특정 기준에 해당하는 data만 모은다\n",
    "'''c 클러스터를 구성하는 포인트의 좌표를 모은 텐서\n",
    "(Dimension(1) x Dimension(2000)) -> [Dimension(1), Dimension(None), Dimension(2)'''\n",
    "# reduce_mean : 특정 기준의 data의 평균을 구한다\n",
    "'''c 클러스터에 속한 모든 포인트의 평균 값을 가진 텐서(Dimension(1) x Dimension(2))'''\n",
    "update_centroids = tf.assign(centroids, means)\n",
    "'''means 텐서의 값을 centroids에 할당하는 연산을 만들어\n",
    " run() 메소드가 실행될 때 업데이트 된 센트로이드 값이 다음번 루프 반복에서 사용'''"
   ]
  },
  {
   "cell_type": "code",
   "execution_count": 56,
   "metadata": {},
   "outputs": [],
   "source": [
    "# Run tf\n",
    "# 데이터 그래프 실행시키기 전 모든 변수를 초기화\n",
    "init = tf.global_variables_initializer()\n",
    "\n",
    "sess = tf.Session()\n",
    "sess.run(init)"
   ]
  },
  {
   "cell_type": "code",
   "execution_count": 57,
   "metadata": {},
   "outputs": [],
   "source": [
    "# Training\n",
    "'''매 반복마다 센트로이드가 업데이트 되고 각 포인트가 새로운 클래스에 할당\n",
    "코드에서 지정한 세개의 연산은 run() 함수가 호출되면 지정한 순서대로 실행. \n",
    "sess.run() 은 훈련 과정동안 세개의 연산에 상응하는 텐서 세개를 numpy 배열로 만들어 리턴\n",
    "update_centroides 연산은 리턴 값이 없으므로 '_' 버림 변수를 지정해 제외'''\n",
    "for step in range(1):\n",
    "    _ , centroid_values, assignment_values = sess.run([update_centroids, centroids, best_centroids])\n",
    "#    print(\"Iter : \",step)\n",
    "#print(\"Training is done!\")"
   ]
  },
  {
   "cell_type": "code",
   "execution_count": 58,
   "metadata": {},
   "outputs": [
    {
     "name": "stdout",
     "output_type": "stream",
     "text": [
      "[[ 11.05569553   8.41957951]\n [  3.77207708  -2.19650388]\n [  3.85521412   8.64371777]]\n"
     ]
    }
   ],
   "source": [
    "print (centroid_values)     # [x,y]"
   ]
  },
  {
   "cell_type": "code",
   "execution_count": 59,
   "metadata": {},
   "outputs": [
    {
     "name": "stdout",
     "output_type": "stream",
     "text": [
      "Plotting 완료\n"
     ]
    },
    {
     "data": {
      "image/png": "[encoded data removed]",
      "text/plain": [
       "<matplotlib.figure.Figure at 0x17646762d68>"
      ]
     },
     "metadata": {},
     "output_type": "display_data"
    }
   ],
   "source": [
    "# Labelling data\n",
    "for i in range(len(assignment_values)):\n",
    "    if assignment_values[i] == 0:\n",
    "        plt.plot(data[i][0],data[i][1], 'bo')\n",
    "    elif assignment_values[i] == 1:\n",
    "        plt.plot(data[i][0], data[i][1], 'ro')\n",
    "    elif assignment_values[i] == 2:\n",
    "        plt.plot(data[i][0], data[i][1], 'co')\n",
    "    else:\n",
    "        plt.plot(data[i][0], data[i][1], 'go')\n",
    "        \n",
    "plt.plot(centroid_values[:,0], centroid_values[:,1], 'kD')  \n",
    "\n",
    "print(\"Plotting 완료\")\n",
    "plt.show()\n",
    "\n"
   ]
  },
  {
   "cell_type": "code",
   "execution_count": 48,
   "metadata": {},
   "outputs": [],
   "source": []
  },
  {
   "cell_type": "code",
   "execution_count": null,
   "metadata": {},
   "outputs": [],
   "source": []
  }
 ],
 "metadata": {
  "kernelspec": {
   "display_name": "Python 2",
   "language": "python",
   "name": "python2"
  },
  "language_info": {
   "codemirror_mode": {
    "name": "ipython",
    "version": 2
   },
   "file_extension": ".py",
   "mimetype": "text/x-python",
   "name": "python",
   "nbconvert_exporter": "python",
   "pygments_lexer": "ipython2",
   "version": "2.7.6"
  }
 },
 "nbformat": 4,
 "nbformat_minor": 0
}
